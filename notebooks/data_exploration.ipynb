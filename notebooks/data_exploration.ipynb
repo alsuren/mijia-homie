{
 "cells": [
  {
   "cell_type": "code",
   "execution_count": null,
   "metadata": {},
   "outputs": [],
   "source": [
    "import pandas as pd \n",
    "import plotly.express as px\n",
    "from sklearn.preprocessing import StandardScaler\n",
    "from sklearn.decomposition import PCA"
   ]
  },
  {
   "cell_type": "code",
   "execution_count": null,
   "metadata": {},
   "outputs": [],
   "source": [
    "homie_bool = pd.read_csv('data/homie_boolean.csv')\n",
    "homie_color = pd.read_csv('data/homie_color.csv')\n",
    "homie_enum = pd.read_csv('data/homie_enum.csv')"
   ]
  },
  {
   "cell_type": "code",
   "execution_count": null,
   "metadata": {},
   "outputs": [],
   "source": [
    "# warning: don't load these they are huge!\n",
    "# homie_float = pd.read_csv('data/homie_float.csv')\n",
    "# homie_integer = pd.read_csv('data/homie_integer.csv')"
   ]
  },
  {
   "cell_type": "markdown",
   "metadata": {},
   "source": [
    "**Useful Information about dataset:** <br>\n",
    "\n",
    "There are between 4 and 10 data points per sensor per minute, depending on how often a sensor gets polled (~ 10K data points in a 24h period for a given sensor)\n",
    "\n",
    "the csv files are split by data type:\n",
    "- homie_boolean\n",
    "- homie_enum\n",
    "- homie_float: contains all metrics stored as floats (temperature)\n",
    "- homie_integer: contains all metrics stored as integers (humidity %, battery level %)\n",
    "\n",
    "dataset columns:\n",
    "- time: since epoch (unix epoch 1970). pandas handles this for us.\n",
    "- device_id \n",
    "- device_name: only use data with device containing raspberry pi or cottage pi\n",
    "- node_id: mac address of the sensor\n",
    "- node_type==\"Mijia sensor\" -> useful filter?\n",
    "\n",
    "\n"
   ]
  },
  {
   "cell_type": "code",
   "execution_count": null,
   "metadata": {},
   "outputs": [],
   "source": [
    "def downsample_mijia_temp_data():\n",
    "    homie_float = pd.read_csv('data/homie_float.csv')\n",
    "    homie_float['time'] = pd.to_datetime(homie_float['time'])\n",
    "    sensor_data = homie_float.loc[(homie_float['node_type']=='Mijia sensor')].copy()\n",
    "    downsampled = sensor_data.set_index('time').groupby(['node_name']).resample('1min')['value'].mean().reset_index()\n",
    "    # The float csv file only contains temperature data\n",
    "    downsampled.rename(columns={'value':'temperature'}, inplace=True)\n",
    "    return downsampled"
   ]
  },
  {
   "cell_type": "code",
   "execution_count": null,
   "metadata": {},
   "outputs": [],
   "source": [
    "def downsample_mijia_humidity_data():\n",
    "    homie_integer = pd.read_csv('data/homie_integer.csv')\n",
    "    homie_integer['time'] = pd.to_datetime(homie_integer['time'])\n",
    "    sensor_data = homie_integer.loc[(homie_integer['node_type']=='Mijia sensor')].copy()\n",
    "    sensor_data = sensor_data.loc[sensor_data['property_name']=='Humidity'].copy()\n",
    "    downsampled = sensor_data.set_index('time').groupby(['node_name']).resample('1min')['value'].median().reset_index()\n",
    "    downsampled.rename(columns={'value':'humidity'}, inplace=True)\n",
    "    return downsampled\n"
   ]
  },
  {
   "cell_type": "code",
   "execution_count": null,
   "metadata": {},
   "outputs": [],
   "source": [
    "def build_dataset():\n",
    "    downsampled_temps = downsample_mijia_temp_data()\n",
    "    downsampled_humidity = downsample_mijia_humidity_data()\n",
    "    result = pd.merge(downsampled_temps, downsampled_humidity, on=['node_name', 'time'])\n",
    "    return result"
   ]
  },
  {
   "cell_type": "code",
   "execution_count": null,
   "metadata": {},
   "outputs": [],
   "source": [
    "dataset = build_dataset()"
   ]
  },
  {
   "cell_type": "code",
   "execution_count": null,
   "metadata": {},
   "outputs": [],
   "source": [
    "def calculate_differential_inplace(df, number_minutes):\n",
    "    past_values = df.groupby('node_name')['temperature'].shift(number_minutes)\n",
    "    df[f'{number_minutes}min_differential'] = (df['temperature'] - past_values)/number_minutes"
   ]
  },
  {
   "cell_type": "code",
   "execution_count": null,
   "metadata": {},
   "outputs": [],
   "source": [
    "calculate_differential_inplace(dataset, 10)"
   ]
  },
  {
   "cell_type": "code",
   "execution_count": null,
   "metadata": {},
   "outputs": [],
   "source": [
    "def plot_temp_variations(data): \n",
    "    df = data.loc[(data['time']>'2020-12-01 00:00:00.001')&\n",
    "                (data['time']<'2020-12-02 00:00:00.001')&\n",
    "                (data['node_name']=='Living room shelves')\n",
    "                ].copy()\n",
    "    df['time_elapsed'] = df['time'].apply(lambda t: t.value)\n",
    "\n",
    "    fig = px.scatter(df, x=\"10min_differential\", y=\"temperature\",color='time_elapsed', \n",
    "                title='temperature vs temperature differential', hover_name='time')\n",
    "    print(df.shape)\n",
    "    return fig.show()\n",
    "\n",
    "plot_temp_variations(dataset)"
   ]
  },
  {
   "cell_type": "code",
   "execution_count": null,
   "metadata": {},
   "outputs": [],
   "source": [
    "def plot_boxplots_per_sensor(df):\n",
    "    remove = [\"Table dangly\", \"Outside chair\", \"Fridge drawer\", \"Fridge door\", \"2AA3D2\", \"392F3E\", \"Tree top\", \"Tree bottom\"]\n",
    "    data = df[~df['node_name'].isin(remove)].dropna().copy()\n",
    "    # Separating out the features\n",
    "    x = data.loc[:, ['temperature', 'humidity']].values\n",
    "    # Separating out the target\n",
    "    # y = df.loc[:,['node_name']].values\n",
    "    # Standardizing the features\n",
    "    x = StandardScaler().fit_transform(x)\n",
    "\n",
    "    pca = PCA(n_components=1)\n",
    "    principalComponents = pca.fit_transform(x)\n",
    "    print(len(principalComponents))\n",
    "    print(data.shape)\n",
    "    data['PCA']= principalComponents\n",
    "    fig = px.box(data, y=\"PCA\", x='node_name')\n",
    "    return fig.show()\n",
    "\n",
    "#plot_boxplots_per_sensor(dataset)"
   ]
  },
  {
   "cell_type": "code",
   "execution_count": null,
   "metadata": {},
   "outputs": [],
   "source": [
    "def plot_week_month_comparison(df):\n",
    "    remove = [\"Table dangly\", \"Outside chair\", \"Fridge drawer\", \"Fridge door\", \"2AA3D2\", \"392F3E\", \"Tree top\", \"Tree bottom\"]\n",
    "    data = df[~df['node_name'].isin(remove)].dropna().copy()\n",
    "    # data['week_number'] = data['time'].dt.isocalendar().week\n",
    "    data['day_number'] = data['time'].dt.isocalendar().day\n",
    "    data['day_name'] = data['time'].dt.day_name()\n",
    "    data['month_number'] = data['time'].dt.month\n",
    "    data['time_of_day']= data['time'].dt.time\n",
    "    # data = df.loc[df['week_number']== 13].copy()\n",
    "    \n",
    "    data = data.set_index('time').groupby(['day_name']).resample('30min')['temperature'].mean().reset_index()\n",
    "    data['time_of_day']= data['time'].dt.time\n",
    "    data['month_number'] = data['time'].dt.month\n",
    "    data = data.groupby(['time_of_day','day_name','month_number'])['temperature'].mean().reset_index()\n",
    "    data = data.loc[(data['month_number']==1)|(data['month_number']==4)]\n",
    "    \n",
    "    fig = px.line(data, x=\"time_of_day\", y='temperature', color='day_name',facet_row=\"month_number\", width=700, height=700,category_orders={\"day_name\": [\"Monday\", \"Tuesday\", \"Wednesday\", \"Thursday\", \"Friday\", \"Saturday\", \"Sunday\"]})\n",
    "    fig.update_layout(\n",
    "    xaxis = dict(\n",
    "        tickmode = 'array',\n",
    "        tickvals = [\"00:00:00\", \"02:00:00\", \"04:00:00\", \"06:00:00\", \"08:00:00\", \"10:00:00\",\"12:00:00\", \"14:00:00\", \"16:00:00\", \"18:00:00\", \"20:00:00\", \"22:00:00\"],\n",
    "        ticktext = [\"00:00\", \"02:00\", \"04:00\", \"06:00\", \"08:00\", \"10:00\",\"12:00\", \"14:00\", \"16:00\", \"18:00\", \"20:00\", \"22:00\"]\n",
    "    )\n",
    ")\n",
    "    fig.update_xaxes(tickangle=45)\n",
    "    return fig.show()\n",
    "\n",
    "plot_week_month_comparison(dataset)"
   ]
  },
  {
   "cell_type": "code",
   "execution_count": null,
   "metadata": {},
   "outputs": [],
   "source": [
    "def compare_days_of_the_week(df):\n",
    "    remove = [\"Table dangly\", \"Outside chair\", \"Fridge drawer\", \"Fridge door\", \"2AA3D2\", \"392F3E\", \"Tree top\", \"Tree bottom\"]\n",
    "    data = df[~df['node_name'].isin(remove)].dropna().copy()\n",
    "    # data['week_number'] = data['time'].dt.isocalendar().week\n",
    "    data['day_number'] = data['time'].dt.isocalendar().day\n",
    "    data['day_name'] = data['time'].dt.day_name()\n",
    "    data['month_number'] = data['time'].dt.month\n",
    "    data['time_of_day']= data['time'].dt.time\n",
    "    # data = df.loc[df['week_number']== 13].copy()\n",
    "    \n",
    "    data = data.set_index('time').groupby(['day_name']).resample('30min')['temperature'].mean().reset_index()\n",
    "    data['time_of_day']= data['time'].dt.time\n",
    "    data = data.groupby(['time_of_day','day_name'])['temperature'].mean().reset_index()\n",
    "    \n",
    "    fig = px.line(data, x=\"time_of_day\", y='temperature', color='day_name',labels=dict(time_of_day=\"Time of Day\", temperature=\"Temperature (°C)\", day_name=\"Day of the Week\"),category_orders={\"day_name\": [\"Monday\", \"Tuesday\", \"Wednesday\", \"Thursday\", \"Friday\", \"Saturday\", \"Sunday\"]})\n",
    "    fig.update_layout(\n",
    "    xaxis = dict(\n",
    "        tickmode = 'array',\n",
    "        tickvals = [\"00:00:00\", \"02:00:00\", \"04:00:00\", \"06:00:00\", \"08:00:00\", \"10:00:00\",\"12:00:00\", \"14:00:00\", \"16:00:00\", \"18:00:00\", \"20:00:00\", \"22:00:00\"],\n",
    "        ticktext = [\"00:00\", \"02:00\", \"04:00\", \"06:00\", \"08:00\", \"10:00\",\"12:00\", \"14:00\", \"16:00\", \"18:00\", \"20:00\", \"22:00\"]\n",
    "    )\n",
    ")\n",
    "    fig.update_xaxes(tickangle=45)\n",
    "    return fig.show()\n",
    "\n",
    "compare_days_of_the_week(dataset)"
   ]
  },
  {
   "cell_type": "code",
   "execution_count": null,
   "metadata": {},
   "outputs": [],
   "source": []
  }
 ],
 "metadata": {
  "kernelspec": {
   "display_name": "Python 3.9.2 64-bit",
   "metadata": {
    "interpreter": {
     "hash": "de3140ad81ba08929dc8d47238f6d45138469e1e91652694ab15112290a4cfb7"
    }
   },
   "name": "python3"
  },
  "language_info": {
   "codemirror_mode": {
    "name": "ipython",
    "version": 3
   },
   "file_extension": ".py",
   "mimetype": "text/x-python",
   "name": "python",
   "nbconvert_exporter": "python",
   "pygments_lexer": "ipython3",
   "version": "3.9.2-final"
  }
 },
 "nbformat": 4,
 "nbformat_minor": 2
}
